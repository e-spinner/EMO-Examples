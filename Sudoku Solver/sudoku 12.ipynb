{
 "cells": [
  {
   "cell_type": "code",
   "execution_count": 2,
   "metadata": {},
   "outputs": [
    {
     "name": "stdout",
     "output_type": "stream",
     "text": [
      "\u001b[1;97m Generation: 16\n",
      "\n",
      "\u001b[1;97m  Input Board:             Solution:                 Output Board:           Constraints: [0]\n",
      "\u001b[1;94m   1 2 3  4 5 6  7 8 9      1 2 3  4 5 6  7 8 9       1 2 3  4 5 6  7 8 9     \u001b[1;92m✔ \u001b[1;92m✔ \u001b[1;92m✔  \u001b[1;92m✔ \u001b[1;92m✔ \u001b[1;92m✔  \u001b[1;92m✔ \u001b[1;92m✔ \u001b[1;92m✔ \n",
      "\u001b[1;94m 1 \u001b[1;37m\u001b[1;94m· \u001b[1;37m\u001b[1;94m· \u001b[1;37m1  \u001b[1;94m· \u001b[1;37m\u001b[1;94m· \u001b[1;37m8  \u001b[1;94m· \u001b[1;37m\u001b[1;94m· \u001b[1;37m\u001b[1;94m· \u001b[1;37m  \u001b[1;94m 1 \u001b[1;37m\u001b[1;97m7 \u001b[1;97m5 \u001b[1;37m·  \u001b[1;97m9 \u001b[1;97m6 \u001b[1;37m·  \u001b[1;97m2 \u001b[1;97m4 \u001b[1;97m3    \u001b[1;94m 1 \u001b[1;97m\u001b[1;92m7 \u001b[1;92m5 \u001b[1;37m1  \u001b[1;92m9 \u001b[1;92m6 \u001b[1;37m8  \u001b[1;92m2 \u001b[1;92m4 \u001b[1;92m3   \u001b[1;92m✔ \u001b[1;97m· · ·  · · ·  · · · \u001b[1;97m 1: \u001b[1;92m✔ \n",
      "\u001b[1;94m 2 \u001b[1;37m\u001b[1;94m· \u001b[1;37m\u001b[1;94m· \u001b[1;37m\u001b[1;94m· \u001b[1;37m \u001b[1;94m· \u001b[1;37m\u001b[1;94m· \u001b[1;37m2  7 \u001b[1;94m· \u001b[1;37m1   \u001b[1;94m 2 \u001b[1;37m\u001b[1;97m8 \u001b[1;97m6 \u001b[1;97m9  \u001b[1;97m3 \u001b[1;97m4 \u001b[1;37m·  \u001b[1;37m· \u001b[1;97m5 \u001b[1;37m·    \u001b[1;94m 2 \u001b[1;97m\u001b[1;92m8 \u001b[1;92m6 \u001b[1;92m9  \u001b[1;92m3 \u001b[1;92m4 \u001b[1;37m2  \u001b[1;37m7 \u001b[1;92m5 \u001b[1;37m1   \u001b[1;92m✔ \u001b[1;97m· \u001b[1;92m✔ \u001b[1;97m·  \u001b[1;97m· \u001b[1;92m✔ \u001b[1;97m·  \u001b[1;97m· \u001b[1;92m✔ \u001b[1;97m· \u001b[1;97m 2: \u001b[1;92m✔ \n",
      "\u001b[1;94m 3 \u001b[1;37m\u001b[1;94m· \u001b[1;37m4 3  1 \u001b[1;94m· \u001b[1;37m\u001b[1;94m· \u001b[1;37m \u001b[1;94m· \u001b[1;37m\u001b[1;94m· \u001b[1;37m\u001b[1;94m· \u001b[1;37m  \u001b[1;94m 3 \u001b[1;37m\u001b[1;97m2 \u001b[1;37m· \u001b[1;37m·  \u001b[1;37m· \u001b[1;97m5 \u001b[1;97m7  \u001b[1;97m8 \u001b[1;97m6 \u001b[1;97m9    \u001b[1;94m 3 \u001b[1;97m\u001b[1;92m2 \u001b[1;37m4 \u001b[1;37m3  \u001b[1;37m1 \u001b[1;92m5 \u001b[1;92m7  \u001b[1;92m8 \u001b[1;92m6 \u001b[1;92m9   \u001b[1;92m✔ \u001b[1;97m· · ·  · · ·  · · · \u001b[1;97m 3: \u001b[1;92m✔ \n",
      "\n",
      "\u001b[1;94m 4 \u001b[1;37m1 \u001b[1;94m· \u001b[1;37m\u001b[1;94m· \u001b[1;37m 4 \u001b[1;94m· \u001b[1;37m\u001b[1;94m· \u001b[1;37m \u001b[1;94m· \u001b[1;37m\u001b[1;94m· \u001b[1;37m\u001b[1;94m· \u001b[1;37m  \u001b[1;94m 4 \u001b[1;37m\u001b[1;37m· \u001b[1;97m8 \u001b[1;97m6  \u001b[1;37m· \u001b[1;97m2 \u001b[1;97m9  \u001b[1;97m3 \u001b[1;97m7 \u001b[1;97m5    \u001b[1;94m 4 \u001b[1;97m\u001b[1;37m1 \u001b[1;92m8 \u001b[1;92m6  \u001b[1;37m4 \u001b[1;92m2 \u001b[1;92m9  \u001b[1;92m3 \u001b[1;92m7 \u001b[1;92m5   \u001b[1;92m✔ \u001b[1;97m· · ·  · · ·  · · · \u001b[1;97m 4: \u001b[1;92m✔ \n",
      "\u001b[1;94m 5 \u001b[1;37m\u001b[1;94m· \u001b[1;37m\u001b[1;94m· \u001b[1;37m5  \u001b[1;94m· \u001b[1;37m\u001b[1;94m· \u001b[1;37m\u001b[1;94m· \u001b[1;37m 9 \u001b[1;94m· \u001b[1;37m4   \u001b[1;94m 5 \u001b[1;37m\u001b[1;97m3 \u001b[1;97m7 \u001b[1;37m·  \u001b[1;97m6 \u001b[1;97m8 \u001b[1;97m1  \u001b[1;37m· \u001b[1;97m2 \u001b[1;37m·    \u001b[1;94m 5 \u001b[1;97m\u001b[1;92m3 \u001b[1;92m7 \u001b[1;37m5  \u001b[1;92m6 \u001b[1;92m8 \u001b[1;92m1  \u001b[1;37m9 \u001b[1;92m2 \u001b[1;37m4   \u001b[1;92m✔ \u001b[1;97m· \u001b[1;92m✔ \u001b[1;97m·  \u001b[1;97m· \u001b[1;92m✔ \u001b[1;97m·  \u001b[1;97m· \u001b[1;92m✔ \u001b[1;97m· \u001b[1;97m 5: \u001b[1;92m✔ \n",
      "\u001b[1;94m 6 \u001b[1;37m\u001b[1;94m· \u001b[1;37m\u001b[1;94m· \u001b[1;37m4  \u001b[1;94m· \u001b[1;37m\u001b[1;94m· \u001b[1;37m\u001b[1;94m· \u001b[1;37m \u001b[1;94m· \u001b[1;37m\u001b[1;94m· \u001b[1;37m\u001b[1;94m· \u001b[1;37m  \u001b[1;94m 6 \u001b[1;37m\u001b[1;97m9 \u001b[1;97m2 \u001b[1;37m·  \u001b[1;97m5 \u001b[1;97m7 \u001b[1;97m3  \u001b[1;97m1 \u001b[1;97m8 \u001b[1;97m6    \u001b[1;94m 6 \u001b[1;97m\u001b[1;92m9 \u001b[1;92m2 \u001b[1;37m4  \u001b[1;92m5 \u001b[1;92m7 \u001b[1;92m3  \u001b[1;92m1 \u001b[1;92m8 \u001b[1;92m6   \u001b[1;92m✔ \u001b[1;97m· · ·  · · ·  · · · \u001b[1;97m 6: \u001b[1;92m✔ \n",
      "\n",
      "\u001b[1;94m 7 \u001b[1;37m4 \u001b[1;94m· \u001b[1;37m7  \u001b[1;94m· \u001b[1;37m\u001b[1;94m· \u001b[1;37m5  \u001b[1;94m· \u001b[1;37m\u001b[1;94m· \u001b[1;37m\u001b[1;94m· \u001b[1;37m  \u001b[1;94m 7 \u001b[1;37m\u001b[1;37m· \u001b[1;97m3 \u001b[1;37m·  \u001b[1;97m8 \u001b[1;97m1 \u001b[1;37m·  \u001b[1;97m6 \u001b[1;97m9 \u001b[1;97m2    \u001b[1;94m 7 \u001b[1;97m\u001b[1;37m4 \u001b[1;92m3 \u001b[1;37m7  \u001b[1;92m8 \u001b[1;92m1 \u001b[1;37m5  \u001b[1;92m6 \u001b[1;92m9 \u001b[1;92m2   \u001b[1;92m✔ \u001b[1;97m· · ·  · · ·  · · · \u001b[1;97m 7: \u001b[1;92m✔ \n",
      "\u001b[1;94m 8 \u001b[1;37m\u001b[1;94m· \u001b[1;37m\u001b[1;94m· \u001b[1;37m\u001b[1;94m· \u001b[1;37m \u001b[1;94m· \u001b[1;37m\u001b[1;94m· \u001b[1;37m\u001b[1;94m· \u001b[1;37m 4 \u001b[1;94m· \u001b[1;37m\u001b[1;94m· \u001b[1;37m  \u001b[1;94m 8 \u001b[1;37m\u001b[1;97m5 \u001b[1;97m1 \u001b[1;97m8  \u001b[1;97m2 \u001b[1;97m9 \u001b[1;97m6  \u001b[1;37m· \u001b[1;97m3 \u001b[1;97m7    \u001b[1;94m 8 \u001b[1;97m\u001b[1;92m5 \u001b[1;92m1 \u001b[1;92m8  \u001b[1;92m2 \u001b[1;92m9 \u001b[1;92m6  \u001b[1;37m4 \u001b[1;92m3 \u001b[1;92m7   \u001b[1;92m✔ \u001b[1;97m· \u001b[1;92m✔ \u001b[1;97m·  \u001b[1;97m· \u001b[1;92m✔ \u001b[1;97m·  \u001b[1;97m· \u001b[1;92m✔ \u001b[1;97m· \u001b[1;97m 8: \u001b[1;92m✔ \n",
      "\u001b[1;94m 9 \u001b[1;37m6 9 \u001b[1;94m· \u001b[1;37m \u001b[1;94m· \u001b[1;37m\u001b[1;94m· \u001b[1;37m\u001b[1;94m· \u001b[1;37m 5 \u001b[1;94m· \u001b[1;37m\u001b[1;94m· \u001b[1;37m  \u001b[1;94m 9 \u001b[1;37m\u001b[1;37m· \u001b[1;37m· \u001b[1;97m2  \u001b[1;97m7 \u001b[1;97m3 \u001b[1;97m4  \u001b[1;37m· \u001b[1;97m1 \u001b[1;97m8    \u001b[1;94m 9 \u001b[1;97m\u001b[1;37m6 \u001b[1;37m9 \u001b[1;92m2  \u001b[1;92m7 \u001b[1;92m3 \u001b[1;92m4  \u001b[1;37m5 \u001b[1;92m1 \u001b[1;92m8   \u001b[1;92m✔ \u001b[1;97m· · ·  · · ·  · · \u001b[1;92m✔ \u001b[1;97m 9: \u001b[1;92m✔ \n",
      "\n"
     ]
    }
   ],
   "source": [
    "import sudoku\n",
    "\n",
    "from pymoo.optimize import minimize\n",
    "from pymoo.constraints.as_penalty import ConstraintsAsPenalty\n",
    "from pymoo.operators.crossover.sbx import SBX\n",
    "from pymoo.operators.mutation.pm import PM\n",
    "from pymoo.operators.mutation.bitflip import BitflipMutation\n",
    "from pymoo.operators.sampling.rnd import IntegerRandomSampling\n",
    "from pymoo.operators.repair.rounding import RoundingRepair\n",
    "\n",
    "\n",
    "puzzle = sudoku.SudokuPuzzle( 60, 81 )\n",
    "\n",
    "res = minimize( ConstraintsAsPenalty( puzzle.SudokuSolver( puzzle.input_board ), penalty=10000.0 ),\n",
    "                puzzle.NSGA2_end( pop_size=100,\n",
    "                sampling=IntegerRandomSampling(),\n",
    "                crossover=SBX( prob=1.0, eta=7.0, vtype=float, repair=RoundingRepair() ),\n",
    "                mutation=puzzle.SelectiveMutation( prob=1.0, prob_var=0.3 ),\n",
    "                eliminate_duplicates=True,\n",
    "                callback=puzzle.DisplayBestBoard()\n",
    "                ),\n",
    "                termination=puzzle.End()\n",
    "            )"
   ]
  }
 ],
 "metadata": {
  "kernelspec": {
   "display_name": "pymoo",
   "language": "python",
   "name": "python3"
  },
  "language_info": {
   "codemirror_mode": {
    "name": "ipython",
    "version": 3
   },
   "file_extension": ".py",
   "mimetype": "text/x-python",
   "name": "python",
   "nbconvert_exporter": "python",
   "pygments_lexer": "ipython3",
   "version": "3.10.12"
  }
 },
 "nbformat": 4,
 "nbformat_minor": 2
}
